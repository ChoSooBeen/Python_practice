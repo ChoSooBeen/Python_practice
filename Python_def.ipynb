{
  "nbformat": 4,
  "nbformat_minor": 0,
  "metadata": {
    "colab": {
      "name": "Python_def.ipynb",
      "provenance": [],
      "collapsed_sections": [],
      "authorship_tag": "ABX9TyMfWoZMX/j35DUJfEmVc/kZ",
      "include_colab_link": true
    },
    "kernelspec": {
      "name": "python3",
      "display_name": "Python 3"
    },
    "language_info": {
      "name": "python"
    }
  },
  "cells": [
    {
      "cell_type": "markdown",
      "metadata": {
        "id": "view-in-github",
        "colab_type": "text"
      },
      "source": [
        "<a href=\"https://colab.research.google.com/github/ChoSooBeen/Python_practice/blob/main/Python_def.ipynb\" target=\"_parent\"><img src=\"https://colab.research.google.com/assets/colab-badge.svg\" alt=\"Open In Colab\"/></a>"
      ]
    },
    {
      "cell_type": "markdown",
      "source": [
        "#2022 하계 부트캠프 [아이컨택] TA 활동\n",
        "*2022.08.01 ~ 2022.08.19*\n",
        "\n",
        "-----\n",
        "\n",
        "##2022.08.05 FRI\n",
        "\n",
        "##**Python - 함수**\n",
        "\n",
        "점프 투 파이썬 https://wikidocs.net/book/1\n"
      ],
      "metadata": {
        "id": "qsoWm4ZUq1AI"
      }
    },
    {
      "cell_type": "markdown",
      "source": [
        "####get_sum()\n",
        "\n",
        "\n",
        "*   return 사용\n",
        "\n"
      ],
      "metadata": {
        "id": "uCmlPxmUq7QY"
      }
    },
    {
      "cell_type": "code",
      "execution_count": 5,
      "metadata": {
        "colab": {
          "base_uri": "https://localhost:8080/"
        },
        "id": "5pR3OBl9qubU",
        "outputId": "32607760-fb74-43cf-aa83-39e00ce6dd95"
      },
      "outputs": [
        {
          "output_type": "stream",
          "name": "stdout",
          "text": [
            "55\n"
          ]
        }
      ],
      "source": [
        "def get_sum(start, end):\n",
        "  sum = 0\n",
        "  for i in range(start, end+1):\n",
        "    sum += i\n",
        "  #print(sum)\n",
        "  return sum\n",
        "\n",
        "print(get_sum(1, 10))"
      ]
    },
    {
      "cell_type": "markdown",
      "source": [
        "####다양한 return 방법\n",
        "\n",
        "\n",
        "*   여러개 return 가능\n",
        "*   리스트, 튜플, 변수들 등 다양하게 return 가능!\n",
        "\n"
      ],
      "metadata": {
        "id": "na6gW0wjs21B"
      }
    },
    {
      "cell_type": "code",
      "source": [
        "def plus_minus(a, b):\n",
        "  p = a + b\n",
        "  m = a - b\n",
        "  return p, m\n",
        "\n",
        "a, b = plus_minus(10, 5) #변수 2개로 받는다.\n",
        "print(a, b)\n",
        "\n",
        "a = plus_minus(10, 5) #튜플로 받는다.\n",
        "print(a) "
      ],
      "metadata": {
        "colab": {
          "base_uri": "https://localhost:8080/"
        },
        "id": "rjD5tBtus5XY",
        "outputId": "bb703f2e-c6bd-43d4-deb6-5ce1a0bd014d"
      },
      "execution_count": 9,
      "outputs": [
        {
          "output_type": "stream",
          "name": "stdout",
          "text": [
            "15 5\n",
            "(15, 5)\n"
          ]
        }
      ]
    },
    {
      "cell_type": "markdown",
      "source": [
        "####기본 매개변수\n",
        "\n",
        "\n",
        "*   함수 정의시 쓰인다.(ex - name, msg)\n",
        "*   매개변수에 default 값을 줄 수 있다.(ex - msg='안녕')\n",
        "\n"
      ],
      "metadata": {
        "id": "cBH_HmOEuRRY"
      }
    },
    {
      "cell_type": "code",
      "source": [
        "def meet(name, msg='안녕'):\n",
        "  print(f'Hi! {name}, {msg}')\n",
        "\n",
        "meet('홍길동', '만나서 반가워!')\n",
        "meet('김영희')"
      ],
      "metadata": {
        "colab": {
          "base_uri": "https://localhost:8080/"
        },
        "id": "iEE1T15suTCQ",
        "outputId": "2589383f-7c1b-4ffe-a58a-639cb3e44d41"
      },
      "execution_count": 12,
      "outputs": [
        {
          "output_type": "stream",
          "name": "stdout",
          "text": [
            "Hi! 홍길동, 만나서 반가워!\n",
            "Hi! 김영희, 안녕\n"
          ]
        }
      ]
    },
    {
      "cell_type": "markdown",
      "source": [
        "####키워드 매개변수\n",
        "\n",
        "\n",
        "*   매개변수 이름을 사용하여 순서 상관없이 준다.\n",
        "*   기본 = 위치 기반 매개변수\n",
        "\n",
        "\n",
        "\n"
      ],
      "metadata": {
        "id": "VOjofp95xGzA"
      }
    },
    {
      "cell_type": "code",
      "source": [
        "def sum(a, b, c):\n",
        "  print(a + b + c)\n",
        "\n",
        "sum(c=3, a=1, b=2)"
      ],
      "metadata": {
        "colab": {
          "base_uri": "https://localhost:8080/"
        },
        "id": "VTDK-Mh2xI9I",
        "outputId": "10fe14cc-9e4f-4df9-8ad8-2c0f8f65ba2d"
      },
      "execution_count": 13,
      "outputs": [
        {
          "output_type": "stream",
          "name": "stdout",
          "text": [
            "6\n"
          ]
        }
      ]
    },
    {
      "cell_type": "markdown",
      "source": [
        "####변수\n",
        "\n",
        "\n",
        "*   전역변수 : 함수 외부에서 선언 (ex - a)\n",
        "*   지역변수 : 함수 내부에서 선언 (ex - b)\n",
        "\n"
      ],
      "metadata": {
        "id": "BzL7QGaPyH4P"
      }
    },
    {
      "cell_type": "code",
      "source": [
        "a = 10\n",
        "def sub(b):\n",
        "  print(a-b)\n",
        "\n",
        "sub(3)"
      ],
      "metadata": {
        "colab": {
          "base_uri": "https://localhost:8080/"
        },
        "id": "aZkFXwDqyRlQ",
        "outputId": "08c0d317-d3a8-4120-d407-d675a3be0dc1"
      },
      "execution_count": 14,
      "outputs": [
        {
          "output_type": "stream",
          "name": "stdout",
          "text": [
            "7\n"
          ]
        }
      ]
    },
    {
      "cell_type": "code",
      "source": [
        "s = '사과가 좋아!'\n",
        "\n",
        "def sub():\n",
        "  global s \n",
        "  print(s) #현재 전역변수 출력\n",
        "  s = '바나나가 좋아!' #위의 global 키워드 --> 함수 내부의 s를 전역변수화한다.\n",
        "  print(s)  \n",
        "\n",
        "sub()\n",
        "print(s) #global 키워드!! 때문에 [바나나가 좋아!] 출력"
      ],
      "metadata": {
        "colab": {
          "base_uri": "https://localhost:8080/"
        },
        "id": "Ud-6OYhCysew",
        "outputId": "e09191f5-ce83-42cf-b2e6-58318d334d4e"
      },
      "execution_count": 19,
      "outputs": [
        {
          "output_type": "stream",
          "name": "stdout",
          "text": [
            "사과가 좋아!\n",
            "바나나가 좋아!\n",
            "바나나가 좋아!\n"
          ]
        }
      ]
    }
  ]
}