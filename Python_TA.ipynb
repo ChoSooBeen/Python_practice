{
  "nbformat": 4,
  "nbformat_minor": 0,
  "metadata": {
    "colab": {
      "name": "Python_TA.ipynb",
      "provenance": [],
      "authorship_tag": "ABX9TyOIBKE0a2uzgTra3W5oiarT",
      "include_colab_link": true
    },
    "kernelspec": {
      "name": "python3",
      "display_name": "Python 3"
    },
    "language_info": {
      "name": "python"
    }
  },
  "cells": [
    {
      "cell_type": "markdown",
      "metadata": {
        "id": "view-in-github",
        "colab_type": "text"
      },
      "source": [
        "<a href=\"https://colab.research.google.com/github/ChoSooBeen/Python_practice/blob/main/Python_TA.ipynb\" target=\"_parent\"><img src=\"https://colab.research.google.com/assets/colab-badge.svg\" alt=\"Open In Colab\"/></a>"
      ]
    },
    {
      "cell_type": "markdown",
      "source": [
        "#2022 하계 부트캠프 [아이컨택] TA 활동\n",
        "*2022.08.01 ~ 2022.08.19*\n",
        "\n",
        "-----\n",
        "\n",
        "##2022.08.02 TUE\n",
        "\n",
        "##**Python - List 활용해보기**\n",
        "\n",
        "점프 투 파이썬 https://wikidocs.net/book/1\n"
      ],
      "metadata": {
        "id": "n0eboIPqDqrO"
      }
    },
    {
      "cell_type": "markdown",
      "source": [
        "###List\n",
        "\n",
        "\n",
        "*   Lists are used to store multiple items in a single variable.\n",
        "\n",
        "*   중복된 값을 가질 수 있다.\n",
        "\n",
        "\n",
        "\n"
      ],
      "metadata": {
        "id": "Vg1nl3hsH2TU"
      }
    },
    {
      "cell_type": "code",
      "source": [
        "nums = [1, 2, 3, 4, 5]\n",
        "\n",
        "#slicing\n",
        "print(nums[::2]) #홀수 출력\n",
        "print(nums[1::2]) #짝수 출력\n",
        "\n",
        "nums2 = [6, 7, 8, 9, 10]\n",
        "\n",
        "#List 2개 합치기\n",
        "sum = nums + nums2\n",
        "print(sum)\n",
        "\n",
        "#List 반복\n",
        "print(nums * 3)\n",
        "\n",
        "#요소 추가\n",
        "sum.append(11)\n",
        "print(sum)\n",
        "\n",
        "#삽입\n",
        "sum.insert(5, 0)\n",
        "print(sum)\n",
        "\n",
        "#삭제 -> remove \n",
        "#pop() = 맨 뒤의 값을 지우는 함수\n",
        "sum.remove(0)\n",
        "print(sum)\n",
        "sum.pop()\n",
        "print(sum)"
      ],
      "metadata": {
        "colab": {
          "base_uri": "https://localhost:8080/"
        },
        "id": "Zc5d_hb9F2Jt",
        "outputId": "362ff107-b585-4e47-be7c-24330dd839f9"
      },
      "execution_count": 14,
      "outputs": [
        {
          "output_type": "stream",
          "name": "stdout",
          "text": [
            "[1, 3, 5]\n",
            "[2, 4]\n",
            "[1, 2, 3, 4, 5, 6, 7, 8, 9, 10]\n",
            "[1, 2, 3, 4, 5, 1, 2, 3, 4, 5, 1, 2, 3, 4, 5]\n",
            "[1, 2, 3, 4, 5, 6, 7, 8, 9, 10, 11]\n",
            "[1, 2, 3, 4, 5, 0, 6, 7, 8, 9, 10, 11]\n",
            "[1, 2, 3, 4, 5, 6, 7, 8, 9, 10, 11]\n",
            "[1, 2, 3, 4, 5, 6, 7, 8, 9, 10]\n"
          ]
        }
      ]
    },
    {
      "cell_type": "markdown",
      "source": [
        "###List 메소드 사용해보기\n",
        "\n",
        "\n",
        "*   append\n",
        "*   insert\n",
        "*   remove\n",
        "*   pop\n",
        "*   extend : 리스트 확장 = 파라미터로 주어진 리스트를 원래 리스트에 더한다.\n",
        "*   clear\n",
        "\n",
        "\n",
        "\n",
        "\n",
        "\n"
      ],
      "metadata": {
        "id": "v2cTpGzqTe4Q"
      }
    },
    {
      "cell_type": "code",
      "source": [
        "rapper = ['김하온', '자이언티', '기리보이', '넉살', '팔로알토']\n",
        "\n",
        "print(rapper)\n",
        "\n",
        "#맨뒤에 박재범을 추가\n",
        "rapper.append('박재범')\n",
        "print(rapper)\n",
        "\n",
        "#자이언티 뒤에 사이언도미닉 추가\n",
        "rapper.insert(2, '사이먼도미닉')\n",
        "print(rapper)\n",
        "\n",
        "#비와이, 제시 2개를 한번에 추가 --> extend 확장\n",
        "rapper.extend(['비와이', '제시'])\n",
        "print(rapper)\n",
        "\n",
        "#팔로알토 제거\n",
        "rapper.remove('팔로알토')\n",
        "print(rapper)\n",
        "\n",
        "#리스트를 모두 제거\n",
        "rapper.clear()\n",
        "print(rapper)"
      ],
      "metadata": {
        "colab": {
          "base_uri": "https://localhost:8080/"
        },
        "id": "AcYH2n2PSQ2R",
        "outputId": "bc1c6d1d-8aa7-4f5d-b634-021dc9703729"
      },
      "execution_count": 15,
      "outputs": [
        {
          "output_type": "stream",
          "name": "stdout",
          "text": [
            "['김하온', '자이언티', '기리보이', '넉살', '팔로알토']\n",
            "['김하온', '자이언티', '기리보이', '넉살', '팔로알토', '박재범']\n",
            "['김하온', '자이언티', '사이먼도미닉', '기리보이', '넉살', '팔로알토', '박재범']\n",
            "['김하온', '자이언티', '사이먼도미닉', '기리보이', '넉살', '팔로알토', '박재범', '비와이', '제시']\n",
            "['김하온', '자이언티', '사이먼도미닉', '기리보이', '넉살', '박재범', '비와이', '제시']\n",
            "[]\n"
          ]
        }
      ]
    },
    {
      "cell_type": "markdown",
      "source": [
        "노래 가사 속 가장 많이 나오는 단어 찾기"
      ],
      "metadata": {
        "id": "QhTNBA95c6RQ"
      }
    },
    {
      "cell_type": "code",
      "source": [
        "#BlackPink - Pretty Savage\n",
        "song = \"\"\"Uh-huh, uh-huh\n",
        "Uh-huh, uh-huh (prrr)\n",
        "BLACKPINK in your area\n",
        "Uh-huh, uh-huh\n",
        "BLACKPINK in your area\n",
        "Uh-huh, uh-huh\n",
        "비슷한 것 같지 우린 뼛속까지 다름\n",
        "아이 창피하다가도 멍석 깔면 바름\n",
        "Born skinny, bitch 암만 살쪄도 난 마름\n",
        "계산은 느려도 눈치는 빠름\n",
        "인기를 논하자면 안 해 입만 아픔\n",
        "F boys, not my boys 싹둑싹둑 자름\n",
        "우리 이름 틀린다면 뚜두뚜두 맞음\n",
        "Drip, drip, ice it out, bust it down, top to the bottom\n",
        "검은색 분홍빛이\n",
        "All up in it, make it lit, like\n",
        "(Oh, oh-oh-oh)\n",
        "Yeah, we some bitches you can't manage\n",
        "또 이 어려운 걸 해내지\n",
        "우린 예쁘장한 savage\n",
        "We some 예쁘장한 savage\n",
        "Bah-dah-bah-bah\n",
        "You better run, run, run\n",
        "(Ooh) Bah-dah-bah-bah\n",
        "You better run, run, run\n",
        "All my diamonds they yellow or bright white (bing)\n",
        "Got 'em blind, can't find me, I'm outta sight (sight)\n",
        "If you mad, stay mad, we not alike (uh-uh)\n",
        "S-A-V-A-G-E, keep it pretty, pretty savage\n",
        "비슷한 걸 걸쳤지만 자태부터 다름\n",
        "짠 하고 나타나면 카펫부터 깔음\n",
        "BLACK 했다 PINK 했다 내 맘대로 바꿈\n",
        "네 질투가 문제야 maybe I'm the problem\n",
        "검은색 분홍빛이\n",
        "All up in it, make it rain, like\n",
        "(Oh, oh-oh-oh)\n",
        "Yeah, we some bitches you can't manage\n",
        "또 이 어려운 걸 해내지\n",
        "우린 예쁘장한 savage\n",
        "We some 예쁘장한 savage\n",
        "Bah-dah-bah-bah\n",
        "You better run, run, run\n",
        "(Ooh) Bah-dah-bah-bah\n",
        "You better run, run, run\n",
        "All my diamonds they yellow or bright white (bing)\n",
        "Got 'em blind, can't find me, I'm outta sight (sight)\n",
        "If you mad, stay mad, we not alike (uh-uh)\n",
        "S-A-V-A-G-E, keep it pretty, pretty savage\n",
        "Pretty girl (pretty girl)\n",
        "웃어주지만 마냥 약하진 않아\n",
        "And I wish you would (wish you would)\n",
        "비바람이 불수록 더 높이 날아\n",
        "I got nothin' left to say to you\n",
        "원하면 보여줄게 attitude\n",
        "굳이 말 안 해도 다 알잖아\n",
        "You know\n",
        "Savage (봐도 봐도 예쁘장한)\n",
        "Savage (so pretty, pretty, pretty, pretty)\n",
        "Savage (봐도 봐도 예쁘장한)\n",
        "Savage (so pretty, pretty, pretty, pretty)\"\"\"\n",
        "\n",
        "world = []\n",
        "count = [0]\n",
        "\n",
        "for i in song.split:\n",
        "  if i not in world:\n",
        "    world.append[i]\n",
        "    count[world.index(i)] += 1\n",
        "  else:\n",
        "    count[world.index(i)] += 1\n",
        "\n",
        "max = 0\n",
        "for i in count:\n",
        "  if max < i:\n",
        "    max = i\n",
        "\n",
        "print(\"가장 많이 나온 단어\")"
      ],
      "metadata": {
        "id": "qfeO8CUbdGKg"
      },
      "execution_count": null,
      "outputs": []
    }
  ]
}