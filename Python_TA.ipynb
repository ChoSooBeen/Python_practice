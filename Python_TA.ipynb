{
  "nbformat": 4,
  "nbformat_minor": 0,
  "metadata": {
    "colab": {
      "name": "Python_TA.ipynb",
      "provenance": [],
      "authorship_tag": "ABX9TyMtQdjXjCJEBS4WKGkq9/rt",
      "include_colab_link": true
    },
    "kernelspec": {
      "name": "python3",
      "display_name": "Python 3"
    },
    "language_info": {
      "name": "python"
    }
  },
  "cells": [
    {
      "cell_type": "markdown",
      "metadata": {
        "id": "view-in-github",
        "colab_type": "text"
      },
      "source": [
        "<a href=\"https://colab.research.google.com/github/ChoSooBeen/Python_practice/blob/main/Python_TA.ipynb\" target=\"_parent\"><img src=\"https://colab.research.google.com/assets/colab-badge.svg\" alt=\"Open In Colab\"/></a>"
      ]
    },
    {
      "cell_type": "markdown",
      "source": [
        "#2022 하계 부트캠프 [아이컨택] TA 활동\n",
        "*2022.08.01 ~ 2022.08.19*\n",
        "\n",
        "-----\n",
        "\n",
        "##**Python 활용해보기**\n",
        "\n",
        "점프 투 파이썬 https://wikidocs.net/book/1\n"
      ],
      "metadata": {
        "id": "n0eboIPqDqrO"
      }
    },
    {
      "cell_type": "markdown",
      "source": [
        "###List\n",
        "\n",
        "\n",
        "*   Lists are used to store multiple items in a single variable.\n",
        "\n",
        "\n"
      ],
      "metadata": {
        "id": "Vg1nl3hsH2TU"
      }
    },
    {
      "cell_type": "code",
      "source": [
        "nums = [1, 2, 3, 4, 5]\n",
        "\n",
        "#slicing\n",
        "print(nums[::2]) #홀수 출력\n",
        "print(nums[1::2]) #짝수 출력"
      ],
      "metadata": {
        "colab": {
          "base_uri": "https://localhost:8080/"
        },
        "id": "Zc5d_hb9F2Jt",
        "outputId": "f30a939f-5f62-48eb-dcaf-176e558be3c3"
      },
      "execution_count": 7,
      "outputs": [
        {
          "output_type": "stream",
          "name": "stdout",
          "text": [
            "[1, 3, 5]\n",
            "[2, 4]\n"
          ]
        }
      ]
    }
  ]
}