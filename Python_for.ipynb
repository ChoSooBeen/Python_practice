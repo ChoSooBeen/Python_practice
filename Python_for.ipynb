{
  "nbformat": 4,
  "nbformat_minor": 0,
  "metadata": {
    "colab": {
      "name": "Python_for.ipynb",
      "provenance": [],
      "authorship_tag": "ABX9TyNsa1Tc0yZk6yh0ctGAmgs6",
      "include_colab_link": true
    },
    "kernelspec": {
      "name": "python3",
      "display_name": "Python 3"
    },
    "language_info": {
      "name": "python"
    }
  },
  "cells": [
    {
      "cell_type": "markdown",
      "metadata": {
        "id": "view-in-github",
        "colab_type": "text"
      },
      "source": [
        "<a href=\"https://colab.research.google.com/github/ChoSooBeen/Python_practice/blob/main/Python_for.ipynb\" target=\"_parent\"><img src=\"https://colab.research.google.com/assets/colab-badge.svg\" alt=\"Open In Colab\"/></a>"
      ]
    },
    {
      "cell_type": "markdown",
      "source": [
        "#2022 하계 부트캠프 [아이컨택] TA 활동\n",
        "*2022.08.01 ~ 2022.08.19*\n",
        "\n",
        "-----\n",
        "\n",
        "##2022.08.03 WED\n",
        "\n",
        "##**Python - 반복문 활용해보기**\n",
        "\n",
        "점프 투 파이썬 https://wikidocs.net/book/1"
      ],
      "metadata": {
        "id": "0n8PfHoRfv9x"
      }
    },
    {
      "cell_type": "markdown",
      "source": [
        "####1-100 짝수의 합, 홀수의 합 구하기"
      ],
      "metadata": {
        "id": "bmBr8NshiLBg"
      }
    },
    {
      "cell_type": "code",
      "execution_count": 5,
      "metadata": {
        "colab": {
          "base_uri": "https://localhost:8080/"
        },
        "id": "RsvMXc4Mfq97",
        "outputId": "c15780de-73d1-45b0-fccd-73d215d7387d"
      },
      "outputs": [
        {
          "output_type": "stream",
          "name": "stdout",
          "text": [
            "1부터 100까지 홀수의 합 : 2500\n",
            "1부터 100까지 짝수의 합 : 4950\n"
          ]
        }
      ],
      "source": [
        "sum = 0\n",
        "\n",
        "for i in range(1, 100, 2):\n",
        "  sum += i\n",
        "\n",
        "print(f\"1부터 100까지 홀수의 합 : {sum}\")\n",
        "\n",
        "for i in range(0, 100, 2):\n",
        "  sum += i\n",
        "\n",
        "print(f\"1부터 100까지 짝수의 합 : {sum}\")"
      ]
    },
    {
      "cell_type": "markdown",
      "source": [
        "####3개의 정수를 입력받아 합계 구하기"
      ],
      "metadata": {
        "id": "6s6Tctu2gpBo"
      }
    },
    {
      "cell_type": "code",
      "source": [
        "sum = 0\n",
        "\n",
        "for i in range(3):\n",
        "  sum += int(input(\"정수를 입력하세요 : \"))\n",
        "\n",
        "print(f\"입력받은 정수의 합은 {sum}입니다\")"
      ],
      "metadata": {
        "colab": {
          "base_uri": "https://localhost:8080/"
        },
        "id": "Wv_9_ylXgOAR",
        "outputId": "6acc4051-0197-44cf-a594-6c7643949d81"
      },
      "execution_count": 3,
      "outputs": [
        {
          "output_type": "stream",
          "name": "stdout",
          "text": [
            "정수를 입력하세요 : 1\n",
            "정수를 입력하세요 : 2\n",
            "정수를 입력하세요 : 3\n",
            "입력받은 정수의 합은 6입니다\n"
          ]
        }
      ]
    }
  ]
}