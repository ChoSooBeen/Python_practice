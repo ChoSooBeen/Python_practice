{
  "nbformat": 4,
  "nbformat_minor": 0,
  "metadata": {
    "colab": {
      "name": "Python_for.ipynb",
      "provenance": [],
      "collapsed_sections": [],
      "authorship_tag": "ABX9TyPeOwc8YjkhdnipSGrMS3ew",
      "include_colab_link": true
    },
    "kernelspec": {
      "name": "python3",
      "display_name": "Python 3"
    },
    "language_info": {
      "name": "python"
    }
  },
  "cells": [
    {
      "cell_type": "markdown",
      "metadata": {
        "id": "view-in-github",
        "colab_type": "text"
      },
      "source": [
        "<a href=\"https://colab.research.google.com/github/ChoSooBeen/Python_practice/blob/main/Python_for.ipynb\" target=\"_parent\"><img src=\"https://colab.research.google.com/assets/colab-badge.svg\" alt=\"Open In Colab\"/></a>"
      ]
    },
    {
      "cell_type": "markdown",
      "source": [
        "#2022 하계 부트캠프 [아이컨택] TA 활동\n",
        "*2022.08.01 ~ 2022.08.19*\n",
        "\n",
        "-----\n",
        "\n",
        "##2022.08.03 WED\n",
        "\n",
        "##**Python - 반복문 , Dictionary**\n",
        "\n",
        "점프 투 파이썬 https://wikidocs.net/book/1"
      ],
      "metadata": {
        "id": "0n8PfHoRfv9x"
      }
    },
    {
      "cell_type": "markdown",
      "source": [
        "####1-100 짝수의 합, 홀수의 합 구하기"
      ],
      "metadata": {
        "id": "bmBr8NshiLBg"
      }
    },
    {
      "cell_type": "code",
      "execution_count": null,
      "metadata": {
        "colab": {
          "base_uri": "https://localhost:8080/"
        },
        "id": "RsvMXc4Mfq97",
        "outputId": "c15780de-73d1-45b0-fccd-73d215d7387d"
      },
      "outputs": [
        {
          "output_type": "stream",
          "name": "stdout",
          "text": [
            "1부터 100까지 홀수의 합 : 2500\n",
            "1부터 100까지 짝수의 합 : 4950\n"
          ]
        }
      ],
      "source": [
        "sum = 0\n",
        "\n",
        "for i in range(1, 100, 2): #range(시작값, 끝값+1, 스텝)\n",
        "  sum += i\n",
        "\n",
        "print(f\"1부터 100까지 홀수의 합 : {sum}\")\n",
        "\n",
        "for i in range(0, 100, 2):\n",
        "  sum += i\n",
        "\n",
        "print(f\"1부터 100까지 짝수의 합 : {sum}\")"
      ]
    },
    {
      "cell_type": "markdown",
      "source": [
        "####3개의 정수를 입력받아 합계 구하기"
      ],
      "metadata": {
        "id": "6s6Tctu2gpBo"
      }
    },
    {
      "cell_type": "code",
      "source": [
        "sum = 0\n",
        "\n",
        "for i in range(3):\n",
        "  sum += int(input(\"정수를 입력하세요 : \"))\n",
        "\n",
        "print(f\"입력받은 정수의 합은 {sum}입니다\")"
      ],
      "metadata": {
        "colab": {
          "base_uri": "https://localhost:8080/"
        },
        "id": "Wv_9_ylXgOAR",
        "outputId": "6acc4051-0197-44cf-a594-6c7643949d81"
      },
      "execution_count": null,
      "outputs": [
        {
          "output_type": "stream",
          "name": "stdout",
          "text": [
            "정수를 입력하세요 : 1\n",
            "정수를 입력하세요 : 2\n",
            "정수를 입력하세요 : 3\n",
            "입력받은 정수의 합은 6입니다\n"
          ]
        }
      ]
    },
    {
      "cell_type": "markdown",
      "source": [
        "####구구단 출력하기"
      ],
      "metadata": {
        "id": "UGLxTbhbj9M3"
      }
    },
    {
      "cell_type": "code",
      "source": [
        "num = int(input(\"몇 단을 입력할까요? \"))\n",
        "\n",
        "for i in range(1, 10):\n",
        "  print(f\"{num} x {i} = {num*i}\")"
      ],
      "metadata": {
        "colab": {
          "base_uri": "https://localhost:8080/"
        },
        "id": "f3b7hFINkAEX",
        "outputId": "a3e9a3cb-6384-4b4c-8036-bb3436a7be5a"
      },
      "execution_count": null,
      "outputs": [
        {
          "output_type": "stream",
          "name": "stdout",
          "text": [
            "몇 단을 입력할까요? 5\n",
            "5 x 1 = 5\n",
            "5 x 2 = 10\n",
            "5 x 3 = 15\n",
            "5 x 4 = 20\n",
            "5 x 5 = 25\n",
            "5 x 6 = 30\n",
            "5 x 7 = 35\n",
            "5 x 8 = 40\n",
            "5 x 9 = 45\n"
          ]
        }
      ]
    },
    {
      "cell_type": "code",
      "source": [
        "#중첩 반복묵 사용하기 - 1단부터 9단까지 출력하기\n",
        "for i in range(1, 10):\n",
        "  for j in range(1, 10):\n",
        "    print(f\"{i} x {j} = {i*j}\")\n",
        "  print(\"-\"*10)"
      ],
      "metadata": {
        "colab": {
          "base_uri": "https://localhost:8080/"
        },
        "id": "lPiGBCD9olq4",
        "outputId": "a591628e-12fc-4a9f-e044-7ad7c9830e1f"
      },
      "execution_count": null,
      "outputs": [
        {
          "output_type": "stream",
          "name": "stdout",
          "text": [
            "1 x 1 = 1\n",
            "1 x 2 = 2\n",
            "1 x 3 = 3\n",
            "1 x 4 = 4\n",
            "1 x 5 = 5\n",
            "1 x 6 = 6\n",
            "1 x 7 = 7\n",
            "1 x 8 = 8\n",
            "1 x 9 = 9\n",
            "----------\n",
            "2 x 1 = 2\n",
            "2 x 2 = 4\n",
            "2 x 3 = 6\n",
            "2 x 4 = 8\n",
            "2 x 5 = 10\n",
            "2 x 6 = 12\n",
            "2 x 7 = 14\n",
            "2 x 8 = 16\n",
            "2 x 9 = 18\n",
            "----------\n",
            "3 x 1 = 3\n",
            "3 x 2 = 6\n",
            "3 x 3 = 9\n",
            "3 x 4 = 12\n",
            "3 x 5 = 15\n",
            "3 x 6 = 18\n",
            "3 x 7 = 21\n",
            "3 x 8 = 24\n",
            "3 x 9 = 27\n",
            "----------\n",
            "4 x 1 = 4\n",
            "4 x 2 = 8\n",
            "4 x 3 = 12\n",
            "4 x 4 = 16\n",
            "4 x 5 = 20\n",
            "4 x 6 = 24\n",
            "4 x 7 = 28\n",
            "4 x 8 = 32\n",
            "4 x 9 = 36\n",
            "----------\n",
            "5 x 1 = 5\n",
            "5 x 2 = 10\n",
            "5 x 3 = 15\n",
            "5 x 4 = 20\n",
            "5 x 5 = 25\n",
            "5 x 6 = 30\n",
            "5 x 7 = 35\n",
            "5 x 8 = 40\n",
            "5 x 9 = 45\n",
            "----------\n",
            "6 x 1 = 6\n",
            "6 x 2 = 12\n",
            "6 x 3 = 18\n",
            "6 x 4 = 24\n",
            "6 x 5 = 30\n",
            "6 x 6 = 36\n",
            "6 x 7 = 42\n",
            "6 x 8 = 48\n",
            "6 x 9 = 54\n",
            "----------\n",
            "7 x 1 = 7\n",
            "7 x 2 = 14\n",
            "7 x 3 = 21\n",
            "7 x 4 = 28\n",
            "7 x 5 = 35\n",
            "7 x 6 = 42\n",
            "7 x 7 = 49\n",
            "7 x 8 = 56\n",
            "7 x 9 = 63\n",
            "----------\n",
            "8 x 1 = 8\n",
            "8 x 2 = 16\n",
            "8 x 3 = 24\n",
            "8 x 4 = 32\n",
            "8 x 5 = 40\n",
            "8 x 6 = 48\n",
            "8 x 7 = 56\n",
            "8 x 8 = 64\n",
            "8 x 9 = 72\n",
            "----------\n",
            "9 x 1 = 9\n",
            "9 x 2 = 18\n",
            "9 x 3 = 27\n",
            "9 x 4 = 36\n",
            "9 x 5 = 45\n",
            "9 x 6 = 54\n",
            "9 x 7 = 63\n",
            "9 x 8 = 72\n",
            "9 x 9 = 81\n",
            "----------\n"
          ]
        }
      ]
    },
    {
      "cell_type": "markdown",
      "source": [
        "####리스트 출력해보기"
      ],
      "metadata": {
        "id": "1-OUh5TPt56Q"
      }
    },
    {
      "cell_type": "code",
      "source": [
        "list = [273, 32, 103, 57, 52]\n",
        "\n",
        "for i in range(len(list)):\n",
        "  print(f\"{i}번째 데이터 : {list[i]}\")"
      ],
      "metadata": {
        "colab": {
          "base_uri": "https://localhost:8080/"
        },
        "id": "fS-QvILGq954",
        "outputId": "f2fd67b8-318b-48a0-9780-7799997ed5ec"
      },
      "execution_count": null,
      "outputs": [
        {
          "output_type": "stream",
          "name": "stdout",
          "text": [
            "0번째 데이터 : 273\n",
            "1번째 데이터 : 32\n",
            "2번째 데이터 : 103\n",
            "3번째 데이터 : 57\n",
            "4번째 데이터 : 52\n"
          ]
        }
      ]
    },
    {
      "cell_type": "markdown",
      "source": [
        "#Python_dictionary\n",
        "\n",
        "\n",
        "\n",
        "> **중복된 값을 허용하지 않는다**\n",
        "\n",
        "\n",
        "\n",
        "*   키 : 값 (key : value)\n",
        "*   get() 메소드 사용\n",
        "*   del 함수\n",
        "*   pop() 메소드\n",
        "\n",
        "\n",
        "\n"
      ],
      "metadata": {
        "id": "M1EOPrPRaqBK"
      }
    },
    {
      "cell_type": "code",
      "source": [
        "dict_1 = {'홍길동':90, '강길동':80, '최길동':85}\n",
        "print(dict_1)\n",
        "\n",
        "#키값에 없는 값을 입력할 시 오류 발생\n",
        "print(dict_1['홍길동'])\n",
        "\n",
        "#없는 값을 키에 넣어도 오류가 나지 않는다. get 메소드 활용\n",
        "print(dict_1.get('윤길동', '그런 아이는 없어')) \n",
        "\n",
        "#딕셔너리 요소 삭제 del\n",
        "del(dict_1['최길동'])\n",
        "print(dict_1)\n",
        "#pop 메소드 사용\n",
        "dict_1.pop('강길동')\n",
        "print(dict_1)\n",
        "\n",
        "#전체 삭제 = clear()"
      ],
      "metadata": {
        "colab": {
          "base_uri": "https://localhost:8080/"
        },
        "id": "zelCpOXJaubJ",
        "outputId": "e8fbac64-1c22-4789-8648-5b8968020e0e"
      },
      "execution_count": 8,
      "outputs": [
        {
          "output_type": "stream",
          "name": "stdout",
          "text": [
            "{'홍길동': 90, '강길동': 80, '최길동': 85}\n",
            "90\n",
            "그런 아이는 없어\n",
            "{'홍길동': 90, '강길동': 80}\n",
            "{'홍길동': 90}\n"
          ]
        }
      ]
    },
    {
      "cell_type": "markdown",
      "source": [
        "####dictionary 메소드\n",
        "\n",
        "\n",
        "*   keys() : 키들의 리스트\n",
        "*   values() : 값들의 리스트\n",
        "*   items() : 키와 값 쌍으로 나타낸 리스트\n",
        "\n",
        "\n"
      ],
      "metadata": {
        "id": "F2BwEqpFeERp"
      }
    },
    {
      "cell_type": "code",
      "source": [
        "dict_1 = {'홍길동':90, '강길동':80, '최길동':85}\n",
        "\n",
        "#기본 - 키 값만 출력\n",
        "for i in dict_1:\n",
        "  print(i)\n",
        "print('-'*15)\n",
        "\n",
        "#키\n",
        "for i in dict_1.keys():\n",
        "  print(i)\n",
        "print('-'*15)\n",
        "\n",
        "#값\n",
        "for i in dict_1.values():\n",
        "  print(i)\n",
        "print('-'*15)\n",
        "\n",
        "#키 - 값\n",
        "for i in dict_1.items():\n",
        "  print(i)"
      ],
      "metadata": {
        "colab": {
          "base_uri": "https://localhost:8080/"
        },
        "id": "mJ1OWASTd47a",
        "outputId": "b2e48420-86a2-41bc-9d69-2de141d8018c"
      },
      "execution_count": 11,
      "outputs": [
        {
          "output_type": "stream",
          "name": "stdout",
          "text": [
            "홍길동\n",
            "강길동\n",
            "최길동\n",
            "---------------\n",
            "홍길동\n",
            "강길동\n",
            "최길동\n",
            "---------------\n",
            "90\n",
            "80\n",
            "85\n",
            "---------------\n",
            "('홍길동', 90)\n",
            "('강길동', 80)\n",
            "('최길동', 85)\n"
          ]
        }
      ]
    }
  ]
}