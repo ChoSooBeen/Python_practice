{
  "nbformat": 4,
  "nbformat_minor": 0,
  "metadata": {
    "colab": {
      "name": "Python_except.ipynb",
      "provenance": [],
      "authorship_tag": "ABX9TyPpcJMKSzOjnVdeRSSFMt6D",
      "include_colab_link": true
    },
    "kernelspec": {
      "name": "python3",
      "display_name": "Python 3"
    },
    "language_info": {
      "name": "python"
    }
  },
  "cells": [
    {
      "cell_type": "markdown",
      "metadata": {
        "id": "view-in-github",
        "colab_type": "text"
      },
      "source": [
        "<a href=\"https://colab.research.google.com/github/ChoSooBeen/Python_practice/blob/main/Python_except.ipynb\" target=\"_parent\"><img src=\"https://colab.research.google.com/assets/colab-badge.svg\" alt=\"Open In Colab\"/></a>"
      ]
    },
    {
      "cell_type": "markdown",
      "source": [
        "#2022 하계 부트캠프 [아이컨택] TA 활동\n",
        "*2022.08.01 ~ 2022.08.19*\n",
        "\n",
        "-----\n",
        "\n",
        "##2022.08.08 MON\n",
        "\n",
        "##**Python - 모듈, 예외처리, 파일 입출력**\n",
        "\n",
        "점프 투 파이썬 https://wikidocs.net/book/1\n"
      ],
      "metadata": {
        "id": "UOifZz7jBq8m"
      }
    },
    {
      "cell_type": "markdown",
      "source": [
        "####예외처리 기본 try-except 구문\n",
        "\n",
        "\n",
        "*   except 정의 : 구체적인 것부터 먼저 --> 막연한 것 나중에\n",
        "\n"
      ],
      "metadata": {
        "id": "uiNWeN4mDKP1"
      }
    },
    {
      "cell_type": "code",
      "execution_count": 3,
      "metadata": {
        "colab": {
          "base_uri": "https://localhost:8080/"
        },
        "id": "Tkzzv1SeCM5d",
        "outputId": "273148e3-4c56-43e8-b820-a4baea90f9cc"
      },
      "outputs": [
        {
          "output_type": "stream",
          "name": "stdout",
          "text": [
            "정수 입력 : a\n",
            "정수를 입력하세요!!\n",
            "일단 프로그램이 끝났습니다.\n"
          ]
        }
      ],
      "source": [
        "try:\n",
        "  number_in = int(input(\"정수 입력 : \"))\n",
        "  print(3.14 * number_in)\n",
        "\n",
        "except:\n",
        "  print('정수를 입력하세요!!')\n",
        "\n",
        "else : \n",
        "  print('예외가 발생하지 않았습니다.')\n",
        "\n",
        "finally:\n",
        "  print('일단 프로그램이 끝났습니다.')"
      ]
    }
  ]
}