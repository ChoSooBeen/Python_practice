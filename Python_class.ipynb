{
  "nbformat": 4,
  "nbformat_minor": 0,
  "metadata": {
    "colab": {
      "name": "Python_class.ipynb",
      "provenance": [],
      "collapsed_sections": [],
      "authorship_tag": "ABX9TyP8QV/iBx7JKCSndyJHcnti",
      "include_colab_link": true
    },
    "kernelspec": {
      "name": "python3",
      "display_name": "Python 3"
    },
    "language_info": {
      "name": "python"
    }
  },
  "cells": [
    {
      "cell_type": "markdown",
      "metadata": {
        "id": "view-in-github",
        "colab_type": "text"
      },
      "source": [
        "<a href=\"https://colab.research.google.com/github/ChoSooBeen/Python_practice/blob/main/Python_class.ipynb\" target=\"_parent\"><img src=\"https://colab.research.google.com/assets/colab-badge.svg\" alt=\"Open In Colab\"/></a>"
      ]
    },
    {
      "cell_type": "markdown",
      "source": [
        "#2022 하계 부트캠프 [아이컨택] TA 활동\n",
        "*2022.08.01 ~ 2022.08.19*\n",
        "\n",
        "-----\n",
        "\n",
        "##2022.08.09 TUE\n",
        "\n",
        "##**Python - class**\n",
        "\n",
        "점프 투 파이썬 https://wikidocs.net/book/1\n",
        "\n"
      ],
      "metadata": {
        "id": "T_QGURzHNNY8"
      }
    },
    {
      "cell_type": "markdown",
      "source": [
        "####class와 객체\n",
        "\n",
        "\n",
        "1.   class = 붕어빵 틀\n",
        "2.   객체 = 붕어빵 --> 팥 붕어빵, 슈크림 붕어빵 등 만들 수 있다.\n",
        "3.   self = 현재 자기 자신의 객체를 나타낸다.(항상 넣어준다) --> 현재 팥 붕어빵인지, 슈크림 붕어빵인지 구분해주는 것!\n",
        "\n",
        "\n",
        "\n",
        "\n",
        "**1개의 클래스로 속성만 바꿔서 여러 개의 객체를 생성할 수 있다.**\n",
        "\n"
      ],
      "metadata": {
        "id": "LGJWVFCENvyK"
      }
    },
    {
      "cell_type": "code",
      "execution_count": 50,
      "metadata": {
        "id": "Y0MCOEFZM8j9"
      },
      "outputs": [],
      "source": [
        "class Car():\n",
        "\n",
        "  #속성\n",
        "  brand = ''\n",
        "  model = ''\n",
        "  color = ''\n",
        "\n",
        "  #메소드\n",
        "  def turn_on(self):\n",
        "    print(self.brand, 'srart')\n",
        "\n",
        "  def turn_off(self):\n",
        "    print(self.brand, 'stop')\n",
        "\n",
        "  def drive(self):\n",
        "    print(self.brand, 'driving')\n",
        "\n",
        "  def showinfo(self): #객체의 속성을 보여주는 메소드\n",
        "    print(self.brand, self.model, self.color)"
      ]
    },
    {
      "cell_type": "code",
      "source": [
        "myCar = Car() #myCar 객체 생성!!\n",
        "\n",
        "#현재 self가 나타내는 것 = myCar\n",
        "myCar.brand = '기아자동차'\n",
        "myCar.model = 'k7'\n",
        "myCar.color = '흰색'\n",
        "myCar.turn_on()\n",
        "myCar.turn_off()\n",
        "myCar.drive()\n",
        "myCar.showinfo()\n",
        "\n",
        "print('-'* 30)\n",
        "\n",
        "#현재 self가 나타내는 것 = yourCar\n",
        "yourCar = Car() #youtCar 객체 생성!!\n",
        "yourCar.brand = '현대자동차'\n",
        "yourCar.model = '소나타'\n",
        "yourCar.color = '검정색'\n",
        "yourCar.turn_on()\n",
        "yourCar.turn_off()\n",
        "yourCar.drive()\n",
        "yourCar.showinfo()"
      ],
      "metadata": {
        "colab": {
          "base_uri": "https://localhost:8080/"
        },
        "id": "OQoiX6UHOxqC",
        "outputId": "4ac17bea-7c0a-4d84-bc55-b4d38df3c61a"
      },
      "execution_count": 51,
      "outputs": [
        {
          "output_type": "stream",
          "name": "stdout",
          "text": [
            "기아자동차 srart\n",
            "기아자동차 stop\n",
            "기아자동차 driving\n",
            "기아자동차 k7 흰색\n",
            "------------------------------\n",
            "현대자동차 srart\n",
            "현대자동차 stop\n",
            "현대자동차 driving\n",
            "현대자동차 소나타 검정색\n"
          ]
        }
      ]
    },
    {
      "cell_type": "markdown",
      "source": [
        "####객체 생성시 호출되는 함수\n",
        "\n",
        "1.   __ init __ = 생성자\n",
        "2.   객체를 생성하면 무조건 호출되는 메소드이다.\n",
        "\n"
      ],
      "metadata": {
        "id": "UUIOeiPPSQER"
      }
    },
    {
      "cell_type": "code",
      "source": [
        "class Car2():\n",
        "\n",
        "  #속성 --> 생성자를 통해 만든다!!\n",
        "  def __init__(self, brand, model, color):\n",
        "    self.brand = brand\n",
        "    self.model = model\n",
        "    self.color = color\n",
        "\n",
        "  #메소드\n",
        "  def turn_on(self):\n",
        "    print(self.brand, 'srart')\n",
        "\n",
        "  def turn_off(self):\n",
        "    print(self.brand, 'stop')\n",
        "\n",
        "  def drive(self):\n",
        "    print(self.brand, 'driving')\n",
        "\n",
        "  def showinfo(self): #객체의 속성을 보여주는 메소드\n",
        "    print(self.brand, self.model, self.color)"
      ],
      "metadata": {
        "id": "9VY5yumfSTf5"
      },
      "execution_count": 52,
      "outputs": []
    },
    {
      "cell_type": "code",
      "source": [
        "myCar = Car2('기아자동차', 'k7', '흰색') #생성자를 가지고 myCar 객체 생성!!\n",
        "\n",
        "#현재 self가 나타내는 것 = myCar\n",
        "myCar.turn_on()\n",
        "myCar.turn_off()\n",
        "myCar.drive()\n",
        "myCar.showinfo()\n",
        "\n",
        "print('-'* 30)\n",
        "\n",
        "#현재 self가 나타내는 것 = yourCar\n",
        "yourCar = Car2('현대자동차', '소나타', '검정색') #생성자를 가지고 youtCar 객체 생성!!\n",
        "yourCar.turn_on()\n",
        "yourCar.turn_off()\n",
        "yourCar.drive()\n",
        "yourCar.showinfo()"
      ],
      "metadata": {
        "colab": {
          "base_uri": "https://localhost:8080/"
        },
        "id": "VffdHd4uTOjg",
        "outputId": "23b70cae-e5a2-4a10-fb7a-ea9fca9b47d6"
      },
      "execution_count": 53,
      "outputs": [
        {
          "output_type": "stream",
          "name": "stdout",
          "text": [
            "기아자동차 srart\n",
            "기아자동차 stop\n",
            "기아자동차 driving\n",
            "기아자동차 k7 흰색\n",
            "------------------------------\n",
            "현대자동차 srart\n",
            "현대자동차 stop\n",
            "현대자동차 driving\n",
            "현대자동차 소나타 검정색\n"
          ]
        }
      ]
    },
    {
      "cell_type": "markdown",
      "source": [
        "####몬스터 클래스 만들어보기"
      ],
      "metadata": {
        "id": "nrsHmh7vXKZW"
      }
    },
    {
      "cell_type": "code",
      "source": [
        "class Monster() :\n",
        "  #속성 --> 생성자를 통해 만든다!!\n",
        "  def __init__(self, name, HP, MP, ):\n",
        "    self.name = name\n",
        "    self.HP = HP\n",
        "    self.MP = MP\n",
        "\n",
        "  #메소드\n",
        "  def fight(self):\n",
        "    print(self.name, '싸운다.. 열심히...')\n",
        "\n",
        "  def eat(self):\n",
        "    print(self.name, '포션 먹었다.')\n",
        "\n",
        "  def showinfo(self): #객체의 속성을 보여주는 메소드\n",
        "    print(f'이름 : {self.name}\\n HP : {self.HP}\\n MP : {self.MP}')\n"
      ],
      "metadata": {
        "id": "R0qzEpvpXN8W"
      },
      "execution_count": 54,
      "outputs": []
    },
    {
      "cell_type": "code",
      "source": [
        "oak = Monster('오크', 500, 100)\n",
        "harpy = Monster('하피', 500, 100)\n",
        "\n",
        "oak.showinfo()\n",
        "harpy.showinfo()\n",
        "\n",
        "print('-' * 30)\n",
        "\n",
        "oak.fight()\n",
        "harpy.eat()"
      ],
      "metadata": {
        "colab": {
          "base_uri": "https://localhost:8080/"
        },
        "id": "W96eidt8Yhvn",
        "outputId": "ed16eb71-1d55-404d-ce2e-40625a650405"
      },
      "execution_count": 55,
      "outputs": [
        {
          "output_type": "stream",
          "name": "stdout",
          "text": [
            "이름 : 오크\n",
            " HP : 500\n",
            " MP : 100\n",
            "이름 : 하피\n",
            " HP : 500\n",
            " MP : 100\n",
            "------------------------------\n",
            "오크 싸운다.. 열심히...\n",
            "하피 포션 먹었다.\n"
          ]
        }
      ]
    },
    {
      "cell_type": "markdown",
      "source": [
        "######Monster class 확인 = dir(클래스)"
      ],
      "metadata": {
        "id": "7wvBy40ObqBd"
      }
    },
    {
      "cell_type": "code",
      "source": [
        "dir(Monster)"
      ],
      "metadata": {
        "colab": {
          "base_uri": "https://localhost:8080/"
        },
        "id": "-_3KLkiFbgr1",
        "outputId": "98b64756-8b76-47c7-9f84-b6ce8a80899e"
      },
      "execution_count": 56,
      "outputs": [
        {
          "output_type": "execute_result",
          "data": {
            "text/plain": [
              "['__class__',\n",
              " '__delattr__',\n",
              " '__dict__',\n",
              " '__dir__',\n",
              " '__doc__',\n",
              " '__eq__',\n",
              " '__format__',\n",
              " '__ge__',\n",
              " '__getattribute__',\n",
              " '__gt__',\n",
              " '__hash__',\n",
              " '__init__',\n",
              " '__init_subclass__',\n",
              " '__le__',\n",
              " '__lt__',\n",
              " '__module__',\n",
              " '__ne__',\n",
              " '__new__',\n",
              " '__reduce__',\n",
              " '__reduce_ex__',\n",
              " '__repr__',\n",
              " '__setattr__',\n",
              " '__sizeof__',\n",
              " '__str__',\n",
              " '__subclasshook__',\n",
              " '__weakref__',\n",
              " 'eat',\n",
              " 'fight',\n",
              " 'showinfo']"
            ]
          },
          "metadata": {},
          "execution_count": 56
        }
      ]
    },
    {
      "cell_type": "markdown",
      "source": [
        "######객체 설명 = help(객체)"
      ],
      "metadata": {
        "id": "-9zckWiMbv5F"
      }
    },
    {
      "cell_type": "code",
      "source": [
        "help(oak)"
      ],
      "metadata": {
        "colab": {
          "base_uri": "https://localhost:8080/"
        },
        "id": "CmLsgM58blol",
        "outputId": "5b0ac662-b259-43a5-a5dc-d5ba68117140"
      },
      "execution_count": 57,
      "outputs": [
        {
          "output_type": "stream",
          "name": "stdout",
          "text": [
            "Help on Monster in module __main__ object:\n",
            "\n",
            "class Monster(builtins.object)\n",
            " |  Monster(name, HP, MP)\n",
            " |  \n",
            " |  Methods defined here:\n",
            " |  \n",
            " |  __init__(self, name, HP, MP)\n",
            " |      Initialize self.  See help(type(self)) for accurate signature.\n",
            " |  \n",
            " |  eat(self)\n",
            " |  \n",
            " |  fight(self)\n",
            " |      #메소드\n",
            " |  \n",
            " |  showinfo(self)\n",
            " |  \n",
            " |  ----------------------------------------------------------------------\n",
            " |  Data descriptors defined here:\n",
            " |  \n",
            " |  __dict__\n",
            " |      dictionary for instance variables (if defined)\n",
            " |  \n",
            " |  __weakref__\n",
            " |      list of weak references to the object (if defined)\n",
            "\n"
          ]
        }
      ]
    },
    {
      "cell_type": "markdown",
      "source": [
        "####프라이빗 변수 = __변수"
      ],
      "metadata": {
        "id": "Epd9wn9gcIL9"
      }
    },
    {
      "cell_type": "code",
      "source": [
        "class Private:\n",
        "  def __init__(self):\n",
        "    self.a = 100\n",
        "    self.__b = 200 #private 변수\n",
        "  \n",
        "  def get_b(self):\n",
        "    return self.__b\n",
        "  \n",
        "  def set_b(self, b):\n",
        "    self.__b = b"
      ],
      "metadata": {
        "id": "q5SmxOFDd1It"
      },
      "execution_count": 58,
      "outputs": []
    },
    {
      "cell_type": "code",
      "source": [
        "p = Private()\n",
        "\n",
        "print(p.a)\n",
        "\n",
        "#프라이빗 변수로 접근 불가능\n",
        "#print(p.b) "
      ],
      "metadata": {
        "colab": {
          "base_uri": "https://localhost:8080/"
        },
        "id": "-WtFzG4JcnQk",
        "outputId": "ae7a071d-934a-494a-e9bd-44375667f948"
      },
      "execution_count": 59,
      "outputs": [
        {
          "output_type": "stream",
          "name": "stdout",
          "text": [
            "100\n"
          ]
        }
      ]
    },
    {
      "cell_type": "code",
      "source": [
        "print(p.get_b())"
      ],
      "metadata": {
        "colab": {
          "base_uri": "https://localhost:8080/"
        },
        "id": "yQJUfyabcykM",
        "outputId": "847b35b7-ccb7-4d33-998f-09dcb51c6641"
      },
      "execution_count": 60,
      "outputs": [
        {
          "output_type": "stream",
          "name": "stdout",
          "text": [
            "200\n"
          ]
        }
      ]
    },
    {
      "cell_type": "markdown",
      "source": [
        "####계산기 만들어보기"
      ],
      "metadata": {
        "id": "utEq8Dp2hEGL"
      }
    },
    {
      "cell_type": "code",
      "source": [
        "class Calc:\n",
        "  def __init__(self, a, b):\n",
        "    self.a = a\n",
        "    self.b = b\n",
        "  \n",
        "  def add(self):\n",
        "    return self.a + self.b\n",
        "  def sub(self):\n",
        "    return self.a - self.b\n",
        "  def mult(self):\n",
        "    return self.a * self.b\n",
        "  def div(self):\n",
        "    return self.a / self.b"
      ],
      "metadata": {
        "id": "quud7Rj7hH_z"
      },
      "execution_count": 61,
      "outputs": []
    },
    {
      "cell_type": "code",
      "source": [
        "my = Calc(20, 5)\n",
        "\n",
        "print(\"두 수를 더한 값 : \", my.add())\n",
        "print(\"두 수를 뺀 값 : \", my.sub())\n",
        "print(\"두 수를 곱한 값 : \", my.mult())\n",
        "print(\"두 수를 나눈 값 : \", my.div())"
      ],
      "metadata": {
        "colab": {
          "base_uri": "https://localhost:8080/"
        },
        "id": "JaildISwha1E",
        "outputId": "d2bef080-dc62-4891-e7a7-3d6fe27120a4"
      },
      "execution_count": 62,
      "outputs": [
        {
          "output_type": "stream",
          "name": "stdout",
          "text": [
            "두 수를 더한 값 :  25\n",
            "두 수를 뺀 값 :  15\n",
            "두 수를 곱한 값 :  100\n",
            "두 수를 나눈 값 :  4.0\n"
          ]
        }
      ]
    },
    {
      "cell_type": "markdown",
      "source": [
        "####리스트로 객체 생성하기"
      ],
      "metadata": {
        "id": "BkflvXrl_uzO"
      }
    },
    {
      "cell_type": "code",
      "source": [
        "class Car3:\n",
        "  def __init__(self, brand, model, color):\n",
        "    self.brand=brand\n",
        "    self.model=model\n",
        "    self.color=color\n",
        "\n",
        "  def turn_on(self):\n",
        "    print(self.brand, '시동을 겁니다.')\n",
        "\n",
        "  def drive(self):\n",
        "    print(self.brand, '주행중입니다.')\n",
        "\n",
        "  def turn_off(self):\n",
        "    print(self.brand, '시동을 끕니다.') \n",
        "\n",
        "car1 = [Car3('현대자동차', '소나타', 'yellow'),\n",
        "        Car3('기아자동차', '소렌토', 'gray'),\n",
        "        Car3('삼성르노', 'SM5', 'red'),\n",
        "        Car3('현대자동차', '그랜저', 'black'),\n",
        "        Car3('기아자동차', '스팅어', 'darkblue'),\n",
        "        Car3('현대자동차', '아반떼', 'white')]\n",
        "\n",
        "for i in car1:\n",
        "  i.turn_on()\n",
        "  i.drive()\n",
        "  i.turn_off()\n",
        "  print('-'*30)"
      ],
      "metadata": {
        "colab": {
          "base_uri": "https://localhost:8080/"
        },
        "id": "C2OIbePZ_yK2",
        "outputId": "f8d94299-d202-4bf0-f9df-0c7b03c420f4"
      },
      "execution_count": 63,
      "outputs": [
        {
          "output_type": "stream",
          "name": "stdout",
          "text": [
            "현대자동차 시동을 겁니다.\n",
            "현대자동차 주행중입니다.\n",
            "현대자동차 시동을 끕니다.\n",
            "------------------------------\n",
            "기아자동차 시동을 겁니다.\n",
            "기아자동차 주행중입니다.\n",
            "기아자동차 시동을 끕니다.\n",
            "------------------------------\n",
            "삼성르노 시동을 겁니다.\n",
            "삼성르노 주행중입니다.\n",
            "삼성르노 시동을 끕니다.\n",
            "------------------------------\n",
            "현대자동차 시동을 겁니다.\n",
            "현대자동차 주행중입니다.\n",
            "현대자동차 시동을 끕니다.\n",
            "------------------------------\n",
            "기아자동차 시동을 겁니다.\n",
            "기아자동차 주행중입니다.\n",
            "기아자동차 시동을 끕니다.\n",
            "------------------------------\n",
            "현대자동차 시동을 겁니다.\n",
            "현대자동차 주행중입니다.\n",
            "현대자동차 시동을 끕니다.\n",
            "------------------------------\n"
          ]
        }
      ]
    },
    {
      "cell_type": "code",
      "source": [
        "class Monster2() :\n",
        "  #속성 --> 생성자를 통해 만든다!!\n",
        "  def __init__(self, name, HP, MP, ):\n",
        "    self.name = name\n",
        "    self.HP = HP\n",
        "    self.MP = MP\n",
        "\n",
        "  #메소드\n",
        "  def fight(self):\n",
        "    print(self.name, '싸운다.. 열심히...')\n",
        "\n",
        "  def eat(self):\n",
        "    print(self.name, '포션 먹었다.')\n",
        "\n",
        "  def showinfo(self): #객체의 속성을 보여주는 메소드\n",
        "    print(f'이름 : {self.name}\\n HP : {self.HP}\\n MP : {self.MP}')\n",
        "\n",
        "\n",
        "monster1 = [Monster2('오크', 500, 100),\n",
        "            Monster2('하피', 500, 100),\n",
        "            Monster2('오크2', 500, 100),\n",
        "            Monster2('하피2', 500, 100)]\n",
        "\n",
        "for j in monster1:\n",
        "  j.fight()\n",
        "  j.eat()\n",
        "  j.showinfo()\n",
        "  print('-'*30)"
      ],
      "metadata": {
        "colab": {
          "base_uri": "https://localhost:8080/"
        },
        "id": "wtGpWyMP_6u_",
        "outputId": "80d83b9b-4d5a-4439-8d62-d84ee5dca888"
      },
      "execution_count": 66,
      "outputs": [
        {
          "output_type": "stream",
          "name": "stdout",
          "text": [
            "오크 싸운다.. 열심히...\n",
            "오크 포션 먹었다.\n",
            "이름 : 오크\n",
            " HP : 500\n",
            " MP : 100\n",
            "------------------------------\n",
            "하피 싸운다.. 열심히...\n",
            "하피 포션 먹었다.\n",
            "이름 : 하피\n",
            " HP : 500\n",
            " MP : 100\n",
            "------------------------------\n",
            "오크2 싸운다.. 열심히...\n",
            "오크2 포션 먹었다.\n",
            "이름 : 오크2\n",
            " HP : 500\n",
            " MP : 100\n",
            "------------------------------\n",
            "하피2 싸운다.. 열심히...\n",
            "하피2 포션 먹었다.\n",
            "이름 : 하피2\n",
            " HP : 500\n",
            " MP : 100\n",
            "------------------------------\n"
          ]
        }
      ]
    },
    {
      "cell_type": "markdown",
      "source": [
        "####리스트-딕셔너리로 학생 성적표 만들기\n",
        "\n",
        "\n",
        "*   students = list\n",
        "*   student = dictionary\n",
        "*   딕셔너리로 이루어진 리스트!!\n",
        "\n",
        "\n",
        "\n",
        "\n"
      ],
      "metadata": {
        "id": "8e7gwWZRCBA1"
      }
    },
    {
      "cell_type": "code",
      "source": [
        "students = [{'name':'홍길동', 'korean':97, 'math': 98, 'english':87, 'science':95},\n",
        "           {'name':'강길동', 'korean':80, 'math': 88, 'english':57, 'science':85},\n",
        "           {'name':'윤길동', 'korean':67, 'math': 68, 'english':77, 'science':75},\n",
        "           {'name':'최길동', 'korean':77, 'math': 78, 'english':87, 'science':65},\n",
        "           {'name':'정길동', 'korean':87, 'math': 58, 'english':97, 'science':55}]\n",
        "\n",
        "print('이름','총점','평균',sep='\\t')\n",
        "\n",
        "sum = 0\n",
        "\n",
        "for student in students:\n",
        "  sum = student['english'] + student['korean'] + student['math'] + student['science']\n",
        "  avg = sum / 4\n",
        "  print(student['name'],sum,avg,sep='\\t') #seq='\\t' --> 콤마 대신에 탭을 해라!\n"
      ],
      "metadata": {
        "colab": {
          "base_uri": "https://localhost:8080/"
        },
        "id": "uSdafKU3Btid",
        "outputId": "8c08a41e-4689-4885-f946-578e89f0caeb"
      },
      "execution_count": 88,
      "outputs": [
        {
          "output_type": "stream",
          "name": "stdout",
          "text": [
            "이름\t총점\t평균\n",
            "홍길동\t377\t94.25\n",
            "강길동\t310\t77.5\n",
            "윤길동\t287\t71.75\n",
            "최길동\t307\t76.75\n",
            "정길동\t297\t74.25\n"
          ]
        }
      ]
    },
    {
      "cell_type": "markdown",
      "source": [
        "####함수로 딕셔너리 만들기\n",
        "\n",
        "위의 students와 s는 같다!"
      ],
      "metadata": {
        "id": "X-s9skBoFwNO"
      }
    },
    {
      "cell_type": "code",
      "source": [
        "#함수로 딕셔너리 만들기\n",
        "def create_dict(name, korean, math, english, science):\n",
        "  return {\n",
        "  'name':name,\n",
        "  'korean':korean,\n",
        "  'math':math,\n",
        "  'english':english,\n",
        "  'science':science\n",
        "  }\n",
        "\n",
        "def get_sum():\n",
        "    return student['english'] + student['korean'] + student['math'] + student['science']\n",
        "\n",
        "#딕셔너리로 리스트 만들기\n",
        "s = [create_dict('홍길동', 97, 98, 87, 95),\n",
        "    create_dict('강길동', 80, 88, 57, 85),\n",
        "    create_dict('윤길동', 67, 68, 77, 75),\n",
        "    create_dict('최길동', 77, 78, 87, 65),\n",
        "    create_dict('정길동', 87, 58, 97, 55)]\n",
        "  \n",
        "print('이름','총점','평균',sep='\\t')\n",
        "\n",
        "for student in s:\n",
        "  sum = get_sum() #파라미터로 딕셔너리를 넘겨주지 않아도 현재 딕셔너리로 읽어서 합을 구한다.\n",
        "  avg = sum / 4\n",
        "  print(student['name'],sum,avg,sep='\\t')\n"
      ],
      "metadata": {
        "colab": {
          "base_uri": "https://localhost:8080/"
        },
        "id": "W8BAY0OXEa9l",
        "outputId": "14608b9a-fbfd-401d-d8af-ceeba7a7356a"
      },
      "execution_count": 89,
      "outputs": [
        {
          "output_type": "stream",
          "name": "stdout",
          "text": [
            "이름\t총점\t평균\n",
            "홍길동\t377\t94.25\n",
            "강길동\t310\t77.5\n",
            "윤길동\t287\t71.75\n",
            "최길동\t307\t76.75\n",
            "정길동\t297\t74.25\n"
          ]
        }
      ]
    },
    {
      "cell_type": "markdown",
      "source": [
        "####클래스로 만들기"
      ],
      "metadata": {
        "id": "ZXM_PI_eGkgr"
      }
    },
    {
      "cell_type": "code",
      "source": [
        "class Student:\n",
        "  #속성 설정\n",
        "  def __init__(self, name, korean, math, english, science):\n",
        "    self.name = name\n",
        "    self.korean = korean\n",
        "    self.math = math\n",
        "    self.english = english\n",
        "    self.science = science\n",
        "\n",
        "  def get_sum(self):\n",
        "    return self.korean + self.math + self.english + self.science\n",
        "\n",
        "  def get_avg(self):\n",
        "    return (self.korean + self.math + self.english + self.science) / 4\n",
        "\n",
        "  def to_string(self):\n",
        "    return f'{self.name}\\t {self.get_sum()}\\t {self.get_avg()}'"
      ],
      "metadata": {
        "id": "jzmx5ncKGj4T"
      },
      "execution_count": 83,
      "outputs": []
    },
    {
      "cell_type": "code",
      "source": [
        "#Students 클래스의 리스트!\n",
        "s = [Student('홍길동', 97, 98, 87, 95),\n",
        "    Student('강길동', 80, 88, 57, 85),\n",
        "    Student('윤길동', 67, 68, 77, 75),\n",
        "    Student('최길동', 77, 78, 87, 65),\n",
        "    Student('정길동', 87, 58, 97, 55)\n",
        "    ]\n",
        "\n",
        "for st in s:\n",
        "  print(st.to_string())"
      ],
      "metadata": {
        "colab": {
          "base_uri": "https://localhost:8080/"
        },
        "id": "gAuf1R7pH9t6",
        "outputId": "e1061ed8-e61f-4891-b371-a5d16ead8289"
      },
      "execution_count": 90,
      "outputs": [
        {
          "output_type": "stream",
          "name": "stdout",
          "text": [
            "홍길동\t 377\t 94.25\n",
            "강길동\t 310\t 77.5\n",
            "윤길동\t 287\t 71.75\n",
            "최길동\t 307\t 76.75\n",
            "정길동\t 297\t 74.25\n"
          ]
        }
      ]
    }
  ]
}