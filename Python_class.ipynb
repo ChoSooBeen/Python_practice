{
  "nbformat": 4,
  "nbformat_minor": 0,
  "metadata": {
    "colab": {
      "name": "Python_class.ipynb",
      "provenance": [],
      "collapsed_sections": [],
      "authorship_tag": "ABX9TyPPrvLniO4QK8CgU3DBLNXB",
      "include_colab_link": true
    },
    "kernelspec": {
      "name": "python3",
      "display_name": "Python 3"
    },
    "language_info": {
      "name": "python"
    }
  },
  "cells": [
    {
      "cell_type": "markdown",
      "metadata": {
        "id": "view-in-github",
        "colab_type": "text"
      },
      "source": [
        "<a href=\"https://colab.research.google.com/github/ChoSooBeen/Python_practice/blob/main/Python_class.ipynb\" target=\"_parent\"><img src=\"https://colab.research.google.com/assets/colab-badge.svg\" alt=\"Open In Colab\"/></a>"
      ]
    },
    {
      "cell_type": "markdown",
      "source": [
        "#2022 하계 부트캠프 [아이컨택] TA 활동\n",
        "*2022.08.01 ~ 2022.08.19*\n",
        "\n",
        "-----\n",
        "\n",
        "##2022.08.09 TUE\n",
        "\n",
        "##**Python - class**\n",
        "\n",
        "점프 투 파이썬 https://wikidocs.net/book/1\n",
        "\n"
      ],
      "metadata": {
        "id": "T_QGURzHNNY8"
      }
    },
    {
      "cell_type": "markdown",
      "source": [
        "####class와 객체\n",
        "\n",
        "\n",
        "1.   class = 붕어빵 틀\n",
        "2.   객체 = 붕어빵 --> 팥 붕어빵, 슈크림 붕어빵 등 만들 수 있다.\n",
        "3.   self = 현재 자기 자신의 객체를 나타낸다.(항상 넣어준다) --> 현재 팥 붕어빵인지, 슈크림 붕어빵인지 구분해주는 것!\n",
        "\n",
        "\n",
        "\n",
        "\n",
        "**1개의 클래스로 속성만 바꿔서 여러 개의 객체를 생성할 수 있다.**\n",
        "\n"
      ],
      "metadata": {
        "id": "LGJWVFCENvyK"
      }
    },
    {
      "cell_type": "code",
      "execution_count": 15,
      "metadata": {
        "id": "Y0MCOEFZM8j9"
      },
      "outputs": [],
      "source": [
        "class Car():\n",
        "\n",
        "  #속성\n",
        "  brand = ''\n",
        "  model = ''\n",
        "  color = ''\n",
        "\n",
        "  #메소드\n",
        "  def turn_on(self):\n",
        "    print(self.brand, 'srart')\n",
        "\n",
        "  def turn_off(self):\n",
        "    print(self.brand, 'stop')\n",
        "\n",
        "  def drive(self):\n",
        "    print(self.brand, 'driving')\n",
        "\n",
        "  def showinfo(self): #객체의 속성을 보여주는 메소드\n",
        "    print(self.brand, self.model, self.color)"
      ]
    },
    {
      "cell_type": "code",
      "source": [
        "myCar = Car() #myCar 객체 생성!!\n",
        "\n",
        "#현재 self가 나타내는 것 = myCar\n",
        "myCar.brand = '기아자동차'\n",
        "myCar.model = 'k7'\n",
        "myCar.color = '흰색'\n",
        "myCar.turn_on()\n",
        "myCar.turn_off()\n",
        "myCar.drive()\n",
        "myCar.showinfo()\n",
        "\n",
        "print('-'* 30)\n",
        "\n",
        "#현재 self가 나타내는 것 = yourCar\n",
        "yourCar = Car() #youtCar 객체 생성!!\n",
        "yourCar.brand = '현대자동차'\n",
        "yourCar.model = '소나타'\n",
        "yourCar.color = '검정색'\n",
        "yourCar.turn_on()\n",
        "yourCar.turn_off()\n",
        "yourCar.drive()\n",
        "yourCar.showinfo()"
      ],
      "metadata": {
        "colab": {
          "base_uri": "https://localhost:8080/"
        },
        "id": "OQoiX6UHOxqC",
        "outputId": "f2c14726-cf17-427c-ed0e-0f4c905d6e62"
      },
      "execution_count": 16,
      "outputs": [
        {
          "output_type": "stream",
          "name": "stdout",
          "text": [
            "기아자동차 srart\n",
            "기아자동차 stop\n",
            "기아자동차 driving\n",
            "기아자동차 k7 흰색\n",
            "------------------------------\n",
            "현대자동차 srart\n",
            "현대자동차 stop\n",
            "현대자동차 driving\n",
            "현대자동차 소나타 검정색\n"
          ]
        }
      ]
    },
    {
      "cell_type": "markdown",
      "source": [
        "####객체 생성시 호출되는 함수\n",
        "\n",
        "1.   __ init __ = 생성자\n",
        "2.   객체를 생성하면 무조건 호출되는 메소드이다.\n",
        "\n"
      ],
      "metadata": {
        "id": "UUIOeiPPSQER"
      }
    },
    {
      "cell_type": "code",
      "source": [
        "class Car2():\n",
        "\n",
        "  #속성 --> 생성자를 통해 만든다!!\n",
        "  def __init__(self, brand, model, color):\n",
        "    self.brand = brand\n",
        "    self.model = model\n",
        "    self.color = color\n",
        "\n",
        "  #메소드\n",
        "  def turn_on(self):\n",
        "    print(self.brand, 'srart')\n",
        "\n",
        "  def turn_off(self):\n",
        "    print(self.brand, 'stop')\n",
        "\n",
        "  def drive(self):\n",
        "    print(self.brand, 'driving')\n",
        "\n",
        "  def showinfo(self): #객체의 속성을 보여주는 메소드\n",
        "    print(self.brand, self.model, self.color)"
      ],
      "metadata": {
        "id": "9VY5yumfSTf5"
      },
      "execution_count": 17,
      "outputs": []
    },
    {
      "cell_type": "code",
      "source": [
        "myCar = Car2('기아자동차', 'k7', '흰색') #생성자를 가지고 myCar 객체 생성!!\n",
        "\n",
        "#현재 self가 나타내는 것 = myCar\n",
        "myCar.turn_on()\n",
        "myCar.turn_off()\n",
        "myCar.drive()\n",
        "myCar.showinfo()\n",
        "\n",
        "print('-'* 30)\n",
        "\n",
        "#현재 self가 나타내는 것 = yourCar\n",
        "yourCar = Car2('현대자동차', '소나타', '검정색') #생성자를 가지고 youtCar 객체 생성!!\n",
        "yourCar.turn_on()\n",
        "yourCar.turn_off()\n",
        "yourCar.drive()\n",
        "yourCar.showinfo()"
      ],
      "metadata": {
        "colab": {
          "base_uri": "https://localhost:8080/"
        },
        "id": "VffdHd4uTOjg",
        "outputId": "ffbc86ba-3a72-46f9-cf98-d5badcaf9798"
      },
      "execution_count": 18,
      "outputs": [
        {
          "output_type": "stream",
          "name": "stdout",
          "text": [
            "기아자동차 srart\n",
            "기아자동차 stop\n",
            "기아자동차 driving\n",
            "기아자동차 k7 흰색\n",
            "------------------------------\n",
            "현대자동차 srart\n",
            "현대자동차 stop\n",
            "현대자동차 driving\n",
            "현대자동차 소나타 검정색\n"
          ]
        }
      ]
    },
    {
      "cell_type": "markdown",
      "source": [
        "####몬스터 클래스 만들어보기"
      ],
      "metadata": {
        "id": "nrsHmh7vXKZW"
      }
    },
    {
      "cell_type": "code",
      "source": [
        "class Monster() :\n",
        "  #속성 --> 생성자를 통해 만든다!!\n",
        "  def __init__(self, name, HP, MP, ):\n",
        "    self.name = name\n",
        "    self.HP = HP\n",
        "    self.MP = MP\n",
        "\n",
        "  #메소드\n",
        "  def fight(self):\n",
        "    print(self.name, '싸운다.. 열심히...')\n",
        "\n",
        "  def eat(self):\n",
        "    print(self.name, '포션 먹었다.')\n",
        "\n",
        "  def showinfo(self): #객체의 속성을 보여주는 메소드\n",
        "    print(f'이름 : {self.name}\\n HP : {self.HP}\\n MP : {self.MP}')\n"
      ],
      "metadata": {
        "id": "R0qzEpvpXN8W"
      },
      "execution_count": 21,
      "outputs": []
    },
    {
      "cell_type": "code",
      "source": [
        "oak = Monster('오크', 500, 100)\n",
        "harpy = Monster('하피', 500, 100)\n",
        "\n",
        "oak.showinfo()\n",
        "harpy.showinfo()\n",
        "\n",
        "print('-' * 30)\n",
        "\n",
        "oak.fight()\n",
        "harpy.eat()"
      ],
      "metadata": {
        "colab": {
          "base_uri": "https://localhost:8080/"
        },
        "id": "W96eidt8Yhvn",
        "outputId": "24aae44b-5f4c-4b40-e12b-976b84578586"
      },
      "execution_count": 23,
      "outputs": [
        {
          "output_type": "stream",
          "name": "stdout",
          "text": [
            "이름 : 오크\n",
            " HP : 500\n",
            " MP : 100\n",
            "이름 : 하피\n",
            " HP : 500\n",
            " MP : 100\n",
            "------------------------------\n",
            "오크 싸운다.. 열심히...\n",
            "하피 포션 먹었다.\n"
          ]
        }
      ]
    }
  ]
}