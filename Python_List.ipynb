{
  "nbformat": 4,
  "nbformat_minor": 0,
  "metadata": {
    "colab": {
      "name": "Python_TA.ipynb",
      "provenance": [],
      "authorship_tag": "ABX9TyMsUY6eaVwGVyGNxdtelsLq",
      "include_colab_link": true
    },
    "kernelspec": {
      "name": "python3",
      "display_name": "Python 3"
    },
    "language_info": {
      "name": "python"
    }
  },
  "cells": [
    {
      "cell_type": "markdown",
      "metadata": {
        "id": "view-in-github",
        "colab_type": "text"
      },
      "source": [
        "<a href=\"https://colab.research.google.com/github/ChoSooBeen/Python_practice/blob/main/Python_List.ipynb\" target=\"_parent\"><img src=\"https://colab.research.google.com/assets/colab-badge.svg\" alt=\"Open In Colab\"/></a>"
      ]
    },
    {
      "cell_type": "markdown",
      "source": [
        "#2022 하계 부트캠프 [아이컨택] TA 활동\n",
        "*2022.08.01 ~ 2022.08.19*\n",
        "\n",
        "-----\n",
        "\n",
        "##2022.08.02 TUE\n",
        "\n",
        "##**Python - List 활용해보기**\n",
        "\n",
        "점프 투 파이썬 https://wikidocs.net/book/1\n"
      ],
      "metadata": {
        "id": "n0eboIPqDqrO"
      }
    },
    {
      "cell_type": "markdown",
      "source": [
        "###List\n",
        "\n",
        "\n",
        "*   Lists are used to store multiple items in a single variable.\n",
        "\n",
        "*   중복된 값을 가질 수 있다.\n",
        "\n",
        "\n",
        "\n"
      ],
      "metadata": {
        "id": "Vg1nl3hsH2TU"
      }
    },
    {
      "cell_type": "code",
      "source": [
        "nums = [1, 2, 3, 4, 5]\n",
        "\n",
        "#slicing\n",
        "print(nums[::2]) #홀수 출력\n",
        "print(nums[1::2]) #짝수 출력\n",
        "\n",
        "nums2 = [6, 7, 8, 9, 10]\n",
        "\n",
        "#List 2개 합치기\n",
        "sum = nums + nums2\n",
        "print(sum)\n",
        "\n",
        "#List 반복\n",
        "print(nums * 3)\n",
        "\n",
        "#요소 추가\n",
        "sum.append(11)\n",
        "print(sum)\n",
        "\n",
        "#삽입\n",
        "sum.insert(5, 0)\n",
        "print(sum)\n",
        "\n",
        "#삭제 -> remove \n",
        "#pop() = 맨 뒤의 값을 지우는 함수\n",
        "sum.remove(0)\n",
        "print(sum)\n",
        "sum.pop()\n",
        "print(sum)"
      ],
      "metadata": {
        "colab": {
          "base_uri": "https://localhost:8080/"
        },
        "id": "Zc5d_hb9F2Jt",
        "outputId": "362ff107-b585-4e47-be7c-24330dd839f9"
      },
      "execution_count": 14,
      "outputs": [
        {
          "output_type": "stream",
          "name": "stdout",
          "text": [
            "[1, 3, 5]\n",
            "[2, 4]\n",
            "[1, 2, 3, 4, 5, 6, 7, 8, 9, 10]\n",
            "[1, 2, 3, 4, 5, 1, 2, 3, 4, 5, 1, 2, 3, 4, 5]\n",
            "[1, 2, 3, 4, 5, 6, 7, 8, 9, 10, 11]\n",
            "[1, 2, 3, 4, 5, 0, 6, 7, 8, 9, 10, 11]\n",
            "[1, 2, 3, 4, 5, 6, 7, 8, 9, 10, 11]\n",
            "[1, 2, 3, 4, 5, 6, 7, 8, 9, 10]\n"
          ]
        }
      ]
    },
    {
      "cell_type": "markdown",
      "source": [
        "###List 메소드 사용해보기\n",
        "\n",
        "\n",
        "*   append\n",
        "*   insert\n",
        "*   remove\n",
        "*   pop\n",
        "*   extend : 리스트 확장 = 파라미터로 주어진 리스트를 원래 리스트에 더한다.\n",
        "*   clear\n",
        "\n",
        "\n",
        "\n",
        "\n",
        "\n"
      ],
      "metadata": {
        "id": "v2cTpGzqTe4Q"
      }
    },
    {
      "cell_type": "code",
      "source": [
        "rapper = ['김하온', '자이언티', '기리보이', '넉살', '팔로알토']\n",
        "\n",
        "print(rapper)\n",
        "\n",
        "#맨뒤에 박재범을 추가\n",
        "rapper.append('박재범')\n",
        "print(rapper)\n",
        "\n",
        "#자이언티 뒤에 사이언도미닉 추가\n",
        "rapper.insert(2, '사이먼도미닉')\n",
        "print(rapper)\n",
        "\n",
        "#비와이, 제시 2개를 한번에 추가 --> extend 확장\n",
        "rapper.extend(['비와이', '제시'])\n",
        "print(rapper)\n",
        "\n",
        "#팔로알토 제거\n",
        "rapper.remove('팔로알토')\n",
        "print(rapper)\n",
        "\n",
        "#리스트를 모두 제거\n",
        "rapper.clear()\n",
        "print(rapper)"
      ],
      "metadata": {
        "colab": {
          "base_uri": "https://localhost:8080/"
        },
        "id": "AcYH2n2PSQ2R",
        "outputId": "bc1c6d1d-8aa7-4f5d-b634-021dc9703729"
      },
      "execution_count": 15,
      "outputs": [
        {
          "output_type": "stream",
          "name": "stdout",
          "text": [
            "['김하온', '자이언티', '기리보이', '넉살', '팔로알토']\n",
            "['김하온', '자이언티', '기리보이', '넉살', '팔로알토', '박재범']\n",
            "['김하온', '자이언티', '사이먼도미닉', '기리보이', '넉살', '팔로알토', '박재범']\n",
            "['김하온', '자이언티', '사이먼도미닉', '기리보이', '넉살', '팔로알토', '박재범', '비와이', '제시']\n",
            "['김하온', '자이언티', '사이먼도미닉', '기리보이', '넉살', '박재범', '비와이', '제시']\n",
            "[]\n"
          ]
        }
      ]
    }
  ]
}