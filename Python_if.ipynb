{
  "nbformat": 4,
  "nbformat_minor": 0,
  "metadata": {
    "colab": {
      "name": "Python_if.ipynb",
      "provenance": [],
      "collapsed_sections": [],
      "authorship_tag": "ABX9TyMyPG9xKZ/HCW4xnyx8Z1X8",
      "include_colab_link": true
    },
    "kernelspec": {
      "name": "python3",
      "display_name": "Python 3"
    },
    "language_info": {
      "name": "python"
    }
  },
  "cells": [
    {
      "cell_type": "markdown",
      "metadata": {
        "id": "view-in-github",
        "colab_type": "text"
      },
      "source": [
        "<a href=\"https://colab.research.google.com/github/ChoSooBeen/Python_practice/blob/main/Python_if.ipynb\" target=\"_parent\"><img src=\"https://colab.research.google.com/assets/colab-badge.svg\" alt=\"Open In Colab\"/></a>"
      ]
    },
    {
      "cell_type": "markdown",
      "source": [
        "#2022 하계 부트캠프 [아이컨택] TA 활동\n",
        "*2022.08.01 ~ 2022.08.19*\n",
        "\n",
        "-----\n",
        "\n",
        "##2022.08.04 THU\n",
        "\n",
        "##**Python - 선택, 조건문**\n",
        "\n",
        "점프 투 파이썬 https://wikidocs.net/book/1"
      ],
      "metadata": {
        "id": "QSeIVlPfgD64"
      }
    },
    {
      "cell_type": "markdown",
      "source": [
        "####정수 구분해보기"
      ],
      "metadata": {
        "id": "zy2cZ2lgwvGj"
      }
    },
    {
      "cell_type": "code",
      "execution_count": null,
      "metadata": {
        "colab": {
          "base_uri": "https://localhost:8080/"
        },
        "id": "spAFhPKof8Fn",
        "outputId": "e2546636-cd12-4e95-b04b-93999cb2d09c"
      },
      "outputs": [
        {
          "output_type": "stream",
          "name": "stdout",
          "text": [
            "정수 입력 : 3\n",
            "양수입니다.\n"
          ]
        }
      ],
      "source": [
        "num = int(input(\"정수 입력 : \"))\n",
        "if num > 0:\n",
        "  print(\"양수입니다.\")\n",
        "elif num < 0:\n",
        "  print(\"음수입니다.\")\n",
        "else :\n",
        "  print('0입니다.')"
      ]
    },
    {
      "cell_type": "markdown",
      "source": [
        "####짝수 / 홀수 "
      ],
      "metadata": {
        "id": "ExulhYDwwyDT"
      }
    },
    {
      "cell_type": "code",
      "source": [
        "num = int(input(\"정수 입력 : \"))\n",
        "if num % 2 == 0:\n",
        "  print(\"짝수입니다.\")\n",
        "else :\n",
        "  print('홀수입니다.')"
      ],
      "metadata": {
        "colab": {
          "base_uri": "https://localhost:8080/"
        },
        "id": "HO6Zuj6Xw2Gi",
        "outputId": "ae6bf389-021c-4284-f264-e78236eb2734"
      },
      "execution_count": null,
      "outputs": [
        {
          "output_type": "stream",
          "name": "stdout",
          "text": [
            "정수 입력 : 40\n",
            "짝수입니다.\n"
          ]
        }
      ]
    },
    {
      "cell_type": "markdown",
      "source": [
        "#### 짝수의 합 구하기"
      ],
      "metadata": {
        "id": "BycH5tJq2wU5"
      }
    },
    {
      "cell_type": "code",
      "source": [
        "num = int(input('몇 개의 정수를 입력할까요? '))\n",
        "sum = 0\n",
        "\n",
        "for i in range(num):\n",
        "  tmp = int(input('정수를 입력하세요 : '))\n",
        "  if tmp % 2 == 0 :\n",
        "    sum += tmp\n",
        "\n",
        "print(f'입력받은 짝수의 합은 {sum}입니다.')"
      ],
      "metadata": {
        "colab": {
          "base_uri": "https://localhost:8080/"
        },
        "id": "WCIt-FuU20OY",
        "outputId": "d0cd60ce-b7b0-4dbf-b2d4-b84f03648ffa"
      },
      "execution_count": null,
      "outputs": [
        {
          "output_type": "stream",
          "name": "stdout",
          "text": [
            "몇 개의 정수를 입력할까요? 6\n",
            "정수를 입력하세요 : 5\n",
            "정수를 입력하세요 : 7\n",
            "정수를 입력하세요 : 9\n",
            "정수를 입력하세요 : 6\n",
            "정수를 입력하세요 : 10\n",
            "정수를 입력하세요 : 5\n",
            "입력받은 짝수의 합은 16입니다.\n"
          ]
        }
      ]
    },
    {
      "cell_type": "markdown",
      "source": [
        "#### 3의 배수를 제외하고 합 구하기"
      ],
      "metadata": {
        "id": "B0DvF4ao4o44"
      }
    },
    {
      "cell_type": "code",
      "source": [
        "total = 0\n",
        "\n",
        "for i in range(1, 101):\n",
        "  if i % 3 == 0:\n",
        "    continue\n",
        "  total += i\n",
        "\n",
        "print(f'합계 : {total}')"
      ],
      "metadata": {
        "colab": {
          "base_uri": "https://localhost:8080/"
        },
        "id": "jhMZ4Zwo4s_w",
        "outputId": "3dfb1f17-2963-495c-94c3-fb986bb74f37"
      },
      "execution_count": null,
      "outputs": [
        {
          "output_type": "stream",
          "name": "stdout",
          "text": [
            "합계 : 3367\n"
          ]
        }
      ]
    },
    {
      "cell_type": "markdown",
      "source": [
        "####2와 3의 배수를 만나면 출력하고 반복문 종료"
      ],
      "metadata": {
        "id": "JWR_mLCaTJW4"
      }
    },
    {
      "cell_type": "code",
      "source": [
        "for i in range(20, 51):\n",
        "  if (i % 2 == 0) and (i % 3 == 0):\n",
        "    print(i)\n",
        "    break"
      ],
      "metadata": {
        "colab": {
          "base_uri": "https://localhost:8080/"
        },
        "id": "DbKfNU7ITOjI",
        "outputId": "4f2a4646-1558-4f04-dba7-e4879162c276"
      },
      "execution_count": null,
      "outputs": [
        {
          "output_type": "stream",
          "name": "stdout",
          "text": [
            "24\n"
          ]
        }
      ]
    },
    {
      "cell_type": "markdown",
      "source": [
        "####로그인\n",
        "\n",
        "\n",
        "*   설정 id = id\n",
        "*   설정 pwd = pwd\n",
        "\n",
        "\n",
        "\n",
        "\n"
      ],
      "metadata": {
        "id": "z2sM2nv5V4XX"
      }
    },
    {
      "cell_type": "code",
      "source": [
        "success_id = 'id'\n",
        "success_pwd = 'pwd'\n",
        "\n",
        "while True:\n",
        "  id = input('id : ')\n",
        "  pwd = input('pwd : ')\n",
        "\n",
        "  if (id == success_id) and (pwd == success_pwd):\n",
        "    print('login success!!')\n",
        "    break"
      ],
      "metadata": {
        "colab": {
          "base_uri": "https://localhost:8080/"
        },
        "id": "tIivqLKkV6mn",
        "outputId": "7c4626f3-b468-43c5-ea51-5411b4d264f2"
      },
      "execution_count": null,
      "outputs": [
        {
          "output_type": "stream",
          "name": "stdout",
          "text": [
            "id : id\n",
            "pwd : aa\n",
            "id : aa\n",
            "pwd : pwd\n",
            "id : id\n",
            "pwd : pwd\n",
            "login success!!\n"
          ]
        }
      ]
    }
  ]
}